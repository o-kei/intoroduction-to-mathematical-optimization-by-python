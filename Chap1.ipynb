{
 "cells": [
  {
   "cell_type": "markdown",
   "metadata": {},
   "source": [
    "# 1.1 Python の実行環境"
   ]
  },
  {
   "cell_type": "markdown",
   "metadata": {},
   "source": [
    "## %Time, %Timeit の例（p. 3）"
   ]
  },
  {
   "cell_type": "code",
   "execution_count": 3,
   "metadata": {},
   "outputs": [
    {
     "name": "stdout",
     "output_type": "stream",
     "text": [
      "Wall time: 3.39 s\n"
     ]
    },
    {
     "data": {
      "text/plain": [
       "4999999950000000"
      ]
     },
     "execution_count": 3,
     "metadata": {},
     "output_type": "execute_result"
    }
   ],
   "source": [
    "n = 100000000\n",
    "%time sum(range(n))"
   ]
  },
  {
   "cell_type": "code",
   "execution_count": 4,
   "metadata": {},
   "outputs": [
    {
     "name": "stdout",
     "output_type": "stream",
     "text": [
      "33.7 ms ± 179 µs per loop (mean ± std. dev. of 7 runs, 10 loops each)\n"
     ]
    }
   ],
   "source": [
    "%%timeit\n",
    "n = 1000000\n",
    "sum(range(n))"
   ]
  },
  {
   "cell_type": "markdown",
   "metadata": {},
   "source": [
    "## システムコマンドの例（p. 4）"
   ]
  },
  {
   "cell_type": "code",
   "execution_count": 5,
   "metadata": {},
   "outputs": [
    {
     "name": "stdout",
     "output_type": "stream",
     "text": [
      "['現在の日付: 2018/08/31 ', '新しい日付を入力してください: (年-月-日) ']\n"
     ]
    }
   ],
   "source": [
    "s = !date\n",
    "print(s)"
   ]
  },
  {
   "cell_type": "markdown",
   "metadata": {},
   "source": [
    "# 1.3 パッケージの読み込み"
   ]
  },
  {
   "cell_type": "markdown",
   "metadata": {
    "collapsed": true
   },
   "source": [
    "## import の例（p. 6）"
   ]
  },
  {
   "cell_type": "code",
   "execution_count": null,
   "metadata": {},
   "outputs": [],
   "source": [
    "import numpy as np\n",
    "print(np.array([0,1,2]))"
   ]
  },
  {
   "cell_type": "code",
   "execution_count": null,
   "metadata": {},
   "outputs": [],
   "source": [
    "from itertools import permutations\n",
    "print(list(permutations([0,1,2])))"
   ]
  },
  {
   "cell_type": "markdown",
   "metadata": {},
   "source": [
    "# 1.4 基本データ型と変数"
   ]
  },
  {
   "cell_type": "markdown",
   "metadata": {},
   "source": [
    "## 変数と代入の例（p. 7）"
   ]
  },
  {
   "cell_type": "code",
   "execution_count": null,
   "metadata": {},
   "outputs": [],
   "source": [
    "(a, b) = (2, 100)\n",
    "a, b = b, a\n",
    "print('a =', a, ', b =', b)\n",
    "a *= b\n",
    "print('a =', a)"
   ]
  },
  {
   "cell_type": "markdown",
   "metadata": {},
   "source": [
    "## 文字列の例（p.  8）"
   ]
  },
  {
   "cell_type": "code",
   "execution_count": null,
   "metadata": {},
   "outputs": [],
   "source": [
    "s1 = 'こんにちは!'; s2 = 'Hello!'\n",
    "s = s1+s2\n",
    "print(s)\n",
    "print(s*3)\n",
    "print(s[0], s[-1], s[::-1])"
   ]
  },
  {
   "cell_type": "markdown",
   "metadata": {},
   "source": [
    "# 1.5 if 文，for 文，while 文"
   ]
  },
  {
   "cell_type": "markdown",
   "metadata": {},
   "source": [
    "## if 文の例（p. 8）"
   ]
  },
  {
   "cell_type": "code",
   "execution_count": null,
   "metadata": {},
   "outputs": [],
   "source": [
    "a = int(input())\n",
    "if a%3 == 0:\n",
    "    print('入力した数字は3の倍数')\n",
    "elif a%3 == 1:\n",
    "    print('入力した数字は，　3で割ると1余る数')\n",
    "else:\n",
    "    print('入力した数字は，　3で割ると２余る数')"
   ]
  },
  {
   "cell_type": "markdown",
   "metadata": {},
   "source": [
    "## for 文の例（p. 9）"
   ]
  },
  {
   "cell_type": "code",
   "execution_count": null,
   "metadata": {},
   "outputs": [],
   "source": [
    "a = 0\n",
    "for x in range(100000):\n",
    "    a += x\n",
    "print(a)"
   ]
  },
  {
   "cell_type": "markdown",
   "metadata": {},
   "source": [
    "## itertools の例（p. 9）"
   ]
  },
  {
   "cell_type": "code",
   "execution_count": null,
   "metadata": {},
   "outputs": [],
   "source": [
    "from itertools import product, combinations\n",
    "\n",
    "x = [0,1,2]\n",
    "y = [3,4,5]\n",
    "print('product:',list(product(x,y)))\n",
    "print('combinations:', list(combinations(y,2)))"
   ]
  },
  {
   "cell_type": "markdown",
   "metadata": {},
   "source": [
    "# 1.6  リスト，タプル，辞書，集合"
   ]
  },
  {
   "cell_type": "markdown",
   "metadata": {},
   "source": [
    "## listの処理の例（p. 10）"
   ]
  },
  {
   "cell_type": "code",
   "execution_count": null,
   "metadata": {},
   "outputs": [],
   "source": [
    "a = list(range(10)) # リスト作成\n",
    "print('1:','a=', a,', len(a)=',len(a),',　a[5]=',a[5],',a[-3]=',a[-3]) \n",
    "a.append(10) # append(要素) 最後に要素を付け足す\n",
    "print('2:','a=',a)\n",
    "a.insert(4, -100) # insert(i, 要素) i番目に要素を挿入\n",
    "print('3:','a=',a)\n",
    "a.extend([11,12,13,14,15]) # extend(list) 最後のlistを付け加える\n",
    "print('4:','a=',a)\n",
    "a.remove(-100) # remove(要素) 要素を削除\n",
    "print('5:','a=',a)\n",
    "del(a[11]) # del(a[i]) a[i] を削除\n",
    "print('6:','a=',a)\n",
    "a[5:11] = a[10:4:-1] # インデックスの5から10までを逆順にする．\n",
    "print('7:','a=',a)\n",
    "a.reverse() # 逆順にする\n",
    "print('8:','a=',a)\n",
    "a.sort() #　小さい順に並べる\n",
    "print('9:','a=',a)"
   ]
  },
  {
   "cell_type": "markdown",
   "metadata": {},
   "source": [
    "## 辞書の例（p. 12）"
   ]
  },
  {
   "cell_type": "code",
   "execution_count": null,
   "metadata": {},
   "outputs": [],
   "source": [
    "dic1 = {'January':'1月', 'February':'2月', 'March':'3月'}\n",
    "print('dic1:',dic1)\n",
    "# 空の辞書に付け足していく\n",
    "dic2 = {}; dic2['March'] = '弥生';\n",
    "dic2['May'] = '皐月'; dic2['June']='水無月'\n",
    "print('dic2:', dic2)\n",
    "dic1.update(dic2)\n",
    "print('dic1:', dic1)\n",
    "del dic1['March']\n",
    "print('dic1:', dic1)"
   ]
  },
  {
   "cell_type": "code",
   "execution_count": null,
   "metadata": {},
   "outputs": [],
   "source": [
    "month = {'January':'1月', 'February':'2月', 'March':'3月',\n",
    "       'April':'4月', 'May':'5月', 'June':'6月'}\n",
    "ml = sorted(month.items(), key=lambda x:x[0])\n",
    "print('ml=',ml)"
   ]
  },
  {
   "cell_type": "markdown",
   "metadata": {},
   "source": [
    "## 集合の例（p. 13）"
   ]
  },
  {
   "cell_type": "code",
   "execution_count": null,
   "metadata": {},
   "outputs": [],
   "source": [
    "s1 = set(range(-3,6))\n",
    "s2 = set(range(-6,3))\n",
    "print(len(s1))\n",
    "print('s1=', s1)\n",
    "print('s2=', s2)\n",
    "print('s1∪s1=', s1.union(s2))\n",
    "print('s1∩s1=', s1.intersection(s2))\n",
    "print('s1-s2=', s1.difference(s2))\n",
    "print('s1△s2=', s1.symmetric_difference(s2))"
   ]
  },
  {
   "cell_type": "markdown",
   "metadata": {},
   "source": [
    "## リスト内包、後置の例（pp. 13-14）"
   ]
  },
  {
   "cell_type": "code",
   "execution_count": null,
   "metadata": {},
   "outputs": [],
   "source": [
    "list1 = [i for i in range(10)]\n",
    "print(list1)\n",
    "list2 = [i for i in range(10) if i%3==0]\n",
    "print(list2)\n",
    "list3 = [-1 if i%2 == 1 else -1 for i in range(10)]\n",
    "print(list3)"
   ]
  },
  {
   "cell_type": "markdown",
   "metadata": {},
   "source": [
    "# 1.7 関数定義，オブジェクト定義"
   ]
  },
  {
   "cell_type": "markdown",
   "metadata": {},
   "source": [
    "## 関数の例（pp. 14-15）"
   ]
  },
  {
   "cell_type": "code",
   "execution_count": null,
   "metadata": {},
   "outputs": [],
   "source": [
    "def fibonacci(n):\n",
    "    if n == 0 or n == 1:\n",
    "        return 1\n",
    "    else:\n",
    "        return fibonacci(n-1)+fibonacci(n-2)\n",
    "fibonacci2 = lambda n: 1 if n == 0 or n == 1 \\\n",
    "    else fibonacci2(n-1)+fibonacci2(n-2)\n",
    "print(fibonacci(30))\n",
    "print(fibonacci2(30))"
   ]
  },
  {
   "cell_type": "code",
   "execution_count": null,
   "metadata": {},
   "outputs": [],
   "source": [
    "def f(x, y):\n",
    "    return x+y\n",
    "l = [2,3]\n",
    "print(f(*l)) # lの中身が展開されてfの引数として呼び出される"
   ]
  },
  {
   "cell_type": "code",
   "execution_count": null,
   "metadata": {},
   "outputs": [],
   "source": [
    "def call_func(func, arg):\n",
    "    return func(*arg)\n",
    "print(call_func(f,l)) # lを引数としてfを呼び出す"
   ]
  },
  {
   "cell_type": "markdown",
   "metadata": {},
   "source": [
    "## クラス定義の例（pp. 15-16）"
   ]
  },
  {
   "cell_type": "code",
   "execution_count": null,
   "metadata": {
    "collapsed": true
   },
   "outputs": [],
   "source": [
    "import math\n",
    "class Vector2D(object):\n",
    "    \"\"\"2次元ベクトルオブジェクトの定義 \"\"\"    \n",
    "    def __init__(self, x=0, y=0):\n",
    "        self.x = x\n",
    "        self.y = y\n",
    "    def norm(self):\n",
    "        return math.sqrt(self.x**2+self.y**2)\n",
    "    def __str__(self):\n",
    "        \"\"\" ベクトルの情報の印字 \"\"\"\n",
    "        return('('+str(self.x)+','+str(self.y)+')')"
   ]
  },
  {
   "cell_type": "code",
   "execution_count": null,
   "metadata": {},
   "outputs": [],
   "source": [
    "v = Vector2D(2,-1)\n",
    "print(v)\n",
    "print(v.norm())"
   ]
  },
  {
   "cell_type": "markdown",
   "metadata": {},
   "source": [
    "# 1.8 Numpy入門"
   ]
  },
  {
   "cell_type": "markdown",
   "metadata": {},
   "source": [
    "## numpy, ndarrayの例（pp. 17-20）"
   ]
  },
  {
   "cell_type": "code",
   "execution_count": null,
   "metadata": {},
   "outputs": [],
   "source": [
    "a = np.array([0,1,2,3,4]) # リストからベクトルを作る．\n",
    "b = np.array([[i*j for j in range(1,5)] for i in range(1,5)] )\n",
    "c = np.linspace(-np.pi, np.pi, 100)\n",
    "d = a.copy() # aのコピーを作り c に代入\n",
    "print(a)\n",
    "print(b)\n",
    "print(c)\n",
    "print(d)"
   ]
  },
  {
   "cell_type": "code",
   "execution_count": null,
   "metadata": {},
   "outputs": [],
   "source": [
    "a = np.zeros(5) # 長さ５の全成分0のベクトル\n",
    "b = np.ones((3,3)) # 3×3の，全成分1の行列\n",
    "c = np.identity(4) # 4×4の単位行列\n",
    "d = np.diag([1,2,3,4]) # 対角成分が1,2,3,4の正方行列\n",
    "print(a)\n",
    "print(b)\n",
    "print(c)\n",
    "print(d)"
   ]
  },
  {
   "cell_type": "code",
   "execution_count": null,
   "metadata": {},
   "outputs": [],
   "source": [
    "np.random.seed(1) # 乱数の種(再現性のある乱数系列)を指定する．\n",
    "a = np.random.rand(5) # 長さ5の，[0,1)の一様乱数からなるベクトル\n",
    "b = np.random.rand(3,4) # 3×4の，[0,1)の一様乱数からなる行列\n",
    "print(a)\n",
    "print(b)"
   ]
  },
  {
   "cell_type": "code",
   "execution_count": null,
   "metadata": {},
   "outputs": [],
   "source": [
    "a = np.random.rand(3,3) # 3×3の乱数による行列\n",
    "b = np.identity(3) # 3次の単位行列\n",
    "c = np.hstack((a,b)) # 行列a,b を横に繋げた行列[a,b] を作る．\n",
    "d = c.transpose() # cの転置行列を返す\n",
    "print(a)\n",
    "print(b)\n",
    "print(c)\n",
    "print(d)"
   ]
  },
  {
   "cell_type": "code",
   "execution_count": null,
   "metadata": {},
   "outputs": [],
   "source": [
    "a = np.array(range(5)); print(a.ndim); print(a.shape)\n",
    "b = np.random.rand(3,4); print(b.shape)\n",
    "print(a.dtype); print(b.dtype)"
   ]
  },
  {
   "cell_type": "code",
   "execution_count": null,
   "metadata": {},
   "outputs": [],
   "source": [
    "a = np.array(range(10))\n",
    "print(a) # a はベクトル\n",
    "B = [0,2,4,6,8] # インデックスのリスト\n",
    "print(a[B]) # a のBによる部分ベクトル"
   ]
  },
  {
   "cell_type": "code",
   "execution_count": null,
   "metadata": {},
   "outputs": [],
   "source": [
    "a = np.array(range(16)).reshape(4,4)\n",
    "print(a) # aは行列\n",
    "B = [1,3] # Bはインデックスのリスト\n",
    "print(a[:,B]) # aの列Bからなる部分行列\n",
    "print(a[B,:]) # aの行Bからなる部分行列"
   ]
  },
  {
   "cell_type": "code",
   "execution_count": null,
   "metadata": {},
   "outputs": [],
   "source": [
    "a = np.arange(-3,4); print('a =', a)\n",
    "b = (a < 0); print('b =', b)\n",
    "print('a[b] =', a[b])\n",
    "a[b] = -1000\n",
    "print('a =', a)"
   ]
  },
  {
   "cell_type": "code",
   "execution_count": null,
   "metadata": {},
   "outputs": [],
   "source": [
    "a = np.array(range(1,6)).reshape((5,1))\n",
    "b = np.array(range(1,6)).reshape((1,5))\n",
    "c = a*b\n",
    "print('a =', a)\n",
    "print('b =', b)\n",
    "print('c =', c)"
   ]
  },
  {
   "cell_type": "code",
   "execution_count": null,
   "metadata": {
    "collapsed": true
   },
   "outputs": [],
   "source": []
  }
 ],
 "metadata": {
  "kernelspec": {
   "display_name": "Python 3",
   "language": "python",
   "name": "python3"
  },
  "language_info": {
   "codemirror_mode": {
    "name": "ipython",
    "version": 3
   },
   "file_extension": ".py",
   "mimetype": "text/x-python",
   "name": "python",
   "nbconvert_exporter": "python",
   "pygments_lexer": "ipython3",
   "version": "3.6.5"
  }
 },
 "nbformat": 4,
 "nbformat_minor": 2
}
