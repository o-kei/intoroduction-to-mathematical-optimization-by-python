{
 "cells": [
  {
   "cell_type": "markdown",
   "metadata": {},
   "source": [
    "# 3.1 ナップサック問題"
   ]
  },
  {
   "cell_type": "markdown",
   "metadata": {},
   "source": [
    "## ナップサック問題に対する貪欲算法（pp. 76-77）"
   ]
  },
  {
   "cell_type": "code",
   "execution_count": null,
   "metadata": {},
   "outputs": [],
   "source": [
    "items = {1,2,3,4,5}\n",
    "c = {1:50, 2:40, 3:10, 4:70, 5:55}\n",
    "w = {1:7, 2:5, 3:1, 4:9, 5:6}\n",
    "capacity = 15\n",
    "\n",
    "ratio = {j:c[j]/w[j] for j in items}\n",
    "sItems = [key for key, val in sorted(ratio.items(),\n",
    "                                     key=lambda x:x[1], reverse=True)]\n",
    "for j in sItems:\n",
    "    print('c[%d]/w[%d] = %lf' % (j,j,c[j]/w[j]))"
   ]
  },
  {
   "cell_type": "code",
   "execution_count": null,
   "metadata": {},
   "outputs": [],
   "source": [
    "x={j:0 for j in sItems}\n",
    "cap = capacity\n",
    "for j in sItems:\n",
    "    if w[j] <= cap:\n",
    "        cap -= w[j]\n",
    "        x[j] = 1\n",
    "print(x)\n",
    "print('総価格 = ', sum(c[j]*x[j] for j in sItems))"
   ]
  },
  {
   "cell_type": "markdown",
   "metadata": {},
   "source": [
    "## ナップサック問題の線形緩和問題の解法（pp. 76-77）"
   ]
  },
  {
   "cell_type": "code",
   "execution_count": null,
   "metadata": {},
   "outputs": [],
   "source": [
    "x={j:0 for j in sItems}\n",
    "cap = capacity\n",
    "for j in sItems:\n",
    "    if w[j] <= cap:\n",
    "        cap -= w[j]\n",
    "        x[j] = 1\n",
    "    else:\n",
    "        x[j] = cap/w[j]\n",
    "        break\n",
    "print(x)\n",
    "print('総価格 = ', sum(c[j]*x[j] for j in sItems))"
   ]
  },
  {
   "cell_type": "markdown",
   "metadata": {},
   "source": [
    "## コード3.1（pp. 81-82）"
   ]
  },
  {
   "cell_type": "code",
   "execution_count": null,
   "metadata": {
    "collapsed": true
   },
   "outputs": [],
   "source": [
    "class KnapsackProblem(object):\n",
    "    \"\"\" The difinition of KnapSackProblem \"\"\"    \n",
    "    def __init__(self, name, capacity, items, costs, weights,\n",
    "                 zeros=set(), ones=set()):\n",
    "        self.name = name\n",
    "        self.capacity = capacity\n",
    "        self.items = items\n",
    "        self.costs = costs\n",
    "        self.weights = weights\n",
    "        self.zeros = zeros\n",
    "        self.ones = ones\n",
    "        self.lb = -100\n",
    "        self.ub = -100\n",
    "        ratio = {j:costs[j]/weights[j] for j  in items}\n",
    "        self.sitemList =  [k for k, v in \n",
    "            sorted(ratio.items(), key=lambda x:x[1], reverse=True)]\n",
    "        self.xlb = {j:0 for j in self.items}\n",
    "        self.xub = {j:0 for j in self.items}\n",
    "        self.bi = None\n",
    "\n",
    "    def getbounds(self):\n",
    "        \"\"\" Calculate the upper and lower bounds. \"\"\"\n",
    "        for j in self.zeros:\n",
    "            self.xlb[j] = self.xub[j] = 0\n",
    "        for j in self.ones:\n",
    "            self.xlb[j] = self.xub[j] = 1\n",
    "        if self.capacity < sum(self.weights[j] for j in self.ones):\n",
    "            self.lb = self.ub =  -100\n",
    "            return 0\n",
    "        ritems = self.items - self.zeros - self.ones\n",
    "        sitems = [j for j in self.sitemList if j in ritems]\n",
    "        cap = self.capacity - sum(self.weights[j] for j in self.ones)\n",
    "        for j in sitems:\n",
    "            if self.weights[j] <= cap:\n",
    "                cap -= self.weights[j]\n",
    "                self.xlb[j] = self.xub[j] = 1\n",
    "            else:\n",
    "                self.xub[j] = cap/self.weights[j]\n",
    "                self.bi = j\n",
    "                break\n",
    "        self.lb = sum(self.costs[j]*self.xlb[j] for j in self.items)\n",
    "        self.ub = sum(self.costs[j]*self.xub[j] for j in self.items)\n",
    "\n",
    "    def __str__(self):\n",
    "        \"\"\" KnapSackProblem の情報を印字 \"\"\"\n",
    "        return('Name = '+self.name+', capacity = '+str(self.capacity)+',\\n'\n",
    "            'items = '+str(self.items)+',\\n'+\n",
    "            'costs = '+str(self.costs)+',\\n'+\n",
    "            'weights = '+str(self.weights)+',\\n'+\n",
    "            'zeros = '+str(self.zeros)+', ones = '+str(self.ones)+',\\n'+\n",
    "            'lb = '+str(self.lb)+', ub = '+str(self.ub)+',\\n'+\n",
    "            'sitemList = '+str(self.sitemList)+',\\n'+\n",
    "            'xlb = '+str(self.xlb)+',\\n'+'xub = '+str(self.xub)+',\\n'+\n",
    "            'bi = '+str(self.bi)+'\\n')"
   ]
  },
  {
   "cell_type": "markdown",
   "metadata": {},
   "source": [
    "## コード3.2（pp. 82-83）"
   ]
  },
  {
   "cell_type": "code",
   "execution_count": null,
   "metadata": {
    "collapsed": true
   },
   "outputs": [],
   "source": [
    "from pulp import *\n",
    "\n",
    "def KnapsackProblemSolve(capacity, items, costs, weights):\n",
    "    from collections import deque\n",
    "    queue = deque()\n",
    "    root = KnapsackProblem('KP', capacity = capacity,\n",
    "        items = items, costs = costs, weights = weights,\n",
    "        zeros = set(), ones = set())\n",
    "    root.getbounds()\n",
    "    best = root\n",
    "    queue.append(root)\n",
    "    while queue != deque([]):\n",
    "        p = queue.popleft()\n",
    "        p.getbounds()\n",
    "        if p.ub > best.lb: # bestを更新する可能性がある\n",
    "            if p.lb > best.lb: #bestを更新する\n",
    "                best = p\n",
    "            if p.ub > p.lb: # 子問題を作って分枝する\n",
    "                k = p.bi                \n",
    "                p1 = KnapsackProblem(p.name+'+'+str(k),\n",
    "                    capacity = p.capacity, items = p.items,\n",
    "                    costs = p.costs, weights = p.weights,\n",
    "                    zeros = p.zeros, ones = p.ones.union({k}))\n",
    "                queue.append(p1)\n",
    "                p2 = KnapsackProblem(p.name+'-'+str(k),\n",
    "                    capacity = p.capacity, items = p.items,\n",
    "                    costs = p.costs, weights = p.weights,\n",
    "                    zeros = p.zeros.union({k}), ones = p.ones)\n",
    "                queue.append(p2)\n",
    "    return 'Optimal', best.lb, best.xlb"
   ]
  },
  {
   "cell_type": "markdown",
   "metadata": {},
   "source": [
    "## ナップサック問題の求解の例（pp. 83）"
   ]
  },
  {
   "cell_type": "code",
   "execution_count": null,
   "metadata": {},
   "outputs": [],
   "source": [
    "capacity = 15\n",
    "items = {1,2,3,4,5}\n",
    "c = {1:50, 2:40, 3:10, 4:70, 5:55}\n",
    "w = {1:7, 2:5, 3:1, 4:9, 5:6}\n",
    "\n",
    "res = KnapsackProblemSolve(capacity=capacity,\n",
    "                     items=items, costs=c, weights=w)\n",
    "print('Optimal value = ', res[1])\n",
    "print('Optimal solution = ', res[2])"
   ]
  },
  {
   "cell_type": "markdown",
   "metadata": {},
   "source": [
    "# 3.3 ビンパッキング問題と列生成法"
   ]
  },
  {
   "cell_type": "markdown",
   "metadata": {},
   "source": [
    "## コード3.3（p. 89）"
   ]
  },
  {
   "cell_type": "code",
   "execution_count": null,
   "metadata": {
    "collapsed": true
   },
   "outputs": [],
   "source": [
    "from pulp import *\n",
    "import numpy as np\n",
    "MEPS = 1.0e-8\n",
    "\n",
    "def binpacking(capacity, w):\n",
    "    m = len(w)\n",
    "    items = set(range(m))\n",
    "    A = np.identity(m)\n",
    "\n",
    "    solved = False\n",
    "    columns = 0\n",
    "    dual = LpProblem(name='D(K)', sense=LpMaximize)\n",
    "    y = [LpVariable('y'+str(i), lowBound=0) for i in items]\n",
    "\n",
    "    dual += lpSum(y[i] for i in items) # 目的関数の設定\n",
    "    for j in range(len(A.T)): # 制約条件の付加\n",
    "        dual += lpDot(A.T[j],y) <= 1, 'ineq'+str(j)\n",
    "\n",
    "    while not(solved):\n",
    "        #dual \n",
    "        dual.solve()\n",
    "        \n",
    "        costs = {i: y[i].varValue for i in items}\n",
    "        weights = {i: w[i] for i in items}\n",
    "        (state, val, sol) = KnapsackProblemSolve(capacity, items, costs, weights)\n",
    "       \n",
    "        if val >= 1.0+MEPS:\n",
    "            a = np.array([int(sol[i]) for i in items])\n",
    "            dual += lpDot(a, y) <= 1, 'ineq'+str(m+columns)\n",
    "            A = np.hstack((A, a.reshape((-1,1))))\n",
    "            columns += 1\n",
    "        else:\n",
    "            solved = True\n",
    "\n",
    "    print('Generated columns: ', columns)\n",
    "    m, n = A.shape\n",
    "    primal = LpProblem(name='P(K)', sense=LpMinimize)\n",
    "    x =[LpVariable('x'+str(j), lowBound=0, cat='Binary') for j in range(n)]\n",
    "    \n",
    "    primal += lpSum(x[j] for j in range(n)) # 目的関数の設定\n",
    "    for i in range(m): # 制約条件の付加\n",
    "        primal += lpDot(A[i], x) >= 1, 'ineq'+str(i)\n",
    "\n",
    "    primal.solve()\n",
    "    if value(primal.objective) - value(dual.objective) < 1.0-MEPS:\n",
    "        print('Optimal solution found: ')\n",
    "    else:\n",
    "        print('Approximated solution found: ')\n",
    "    K = [j for j in range(n) if x[j].varValue > MEPS]\n",
    "    result = []\n",
    "    itms = set(range(m))\n",
    "    for j in K:\n",
    "        J = {i for i in range(m) if A[i,j] > MEPS and i in itms}\n",
    "        r = [w[i] for i in J]\n",
    "        itms -= J\n",
    "        result.append(r)\n",
    "    print(result)"
   ]
  },
  {
   "cell_type": "markdown",
   "metadata": {},
   "source": [
    "## コード3.4（pp. 90）"
   ]
  },
  {
   "cell_type": "code",
   "execution_count": null,
   "metadata": {},
   "outputs": [],
   "source": [
    "capacity =25\n",
    "items = set(range(10))\n",
    "np.random.seed(1)\n",
    "w ={i:np.random.randint(5,10) for i in items}\n",
    "w2 = [w[i] for i in items]\n",
    "print(w2)\n",
    "\n",
    "binpacking(capacity, w)"
   ]
  },
  {
   "cell_type": "markdown",
   "metadata": {},
   "source": [
    "## コード3.5（pp. 91）"
   ]
  },
  {
   "cell_type": "code",
   "execution_count": null,
   "metadata": {
    "collapsed": true
   },
   "outputs": [],
   "source": [
    "def KPS(capacity, items, costs, weights):\n",
    "    knapsack = LpProblem(name='knapsack', sense=LpMaximize)\n",
    "    x ={j: LpVariable('x'+str(j), lowBound=0, cat='Binary') for j in items}\n",
    "    \n",
    "    knapsack += lpSum(costs[j]*x[j] for j in items) # 目的関数の設定\n",
    "    knapsack += lpSum(weights[j]*x[j] for j in items) <= capacity, 'weights'\n",
    "\n",
    "    knapsack.solve()\n",
    "    xx= {j: int(x[j].varValue) for j in items}\n",
    "    return LpStatus[knapsack.status], value(knapsack.objective), xx"
   ]
  },
  {
   "cell_type": "markdown",
   "metadata": {},
   "source": [
    "## コード3.6（pp. 92）"
   ]
  },
  {
   "cell_type": "code",
   "execution_count": null,
   "metadata": {
    "collapsed": true
   },
   "outputs": [],
   "source": [
    "from pulp import *\n",
    "MEPS = 1.0e-8\n",
    "\n",
    "def binpacking2(capacity, w):\n",
    "    n = len(w)\n",
    "    items = range(n)\n",
    "    bpprob =  LpProblem(name='BinPacking2', sense=LpMinimize)\n",
    "    z = [LpVariable('z'+str(j), lowBound=0,cat='Binary') for j in items]\n",
    "    x =[[LpVariable('x'+str(i)+str(j), lowBound=0, cat='Binary') for j in items] for i in items]\n",
    "    \n",
    "    bpprob += lpSum(z[i] for i in items)\n",
    "    for i in items:\n",
    "        bpprob += lpSum(x[i][j] for j in items) == 1\n",
    "    for j in items:\n",
    "        bpprob += lpSum(x[i][j]*w[i] for i in items) <= capacity*z[j]\n",
    "\n",
    "    bpprob.solve()\n",
    "    result = []\n",
    "    for j in items:\n",
    "        if z[j].varValue > MEPS:\n",
    "            r = [w[i] for i in items if x[i][j].varValue > MEPS]\n",
    "            result.append(r)\n",
    "    print(result)\n"
   ]
  },
  {
   "cell_type": "markdown",
   "metadata": {},
   "source": [
    "## コード3.7（pp. 92）"
   ]
  },
  {
   "cell_type": "code",
   "execution_count": null,
   "metadata": {},
   "outputs": [],
   "source": [
    "capacity =25\n",
    "items = set(range(10))\n",
    "np.random.seed(1)\n",
    "w ={i:np.random.randint(5,10) for i in items}\n",
    "w2 = [w[i] for i in items]\n",
    "print(w2)\n",
    "\n",
    "binpacking2(capacity, w)"
   ]
  },
  {
   "cell_type": "code",
   "execution_count": null,
   "metadata": {
    "collapsed": true
   },
   "outputs": [],
   "source": []
  }
 ],
 "metadata": {
  "kernelspec": {
   "display_name": "Python 3",
   "language": "python",
   "name": "python3"
  },
  "language_info": {
   "codemirror_mode": {
    "name": "ipython",
    "version": 3
   },
   "file_extension": ".py",
   "mimetype": "text/x-python",
   "name": "python",
   "nbconvert_exporter": "python",
   "pygments_lexer": "ipython3",
   "version": "3.6.3"
  }
 },
 "nbformat": 4,
 "nbformat_minor": 2
}
